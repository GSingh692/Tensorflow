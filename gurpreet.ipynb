{
 "cells": [
  {
   "cell_type": "code",
   "execution_count": 6,
   "id": "0bae12ec",
   "metadata": {},
   "outputs": [
    {
     "name": "stdout",
     "output_type": "stream",
     "text": [
      "Collecting tensorflowNote: you may need to restart the kernel to use updated packages.\n",
      "  Using cached tensorflow-2.11.0-cp39-cp39-win_amd64.whl (1.9 kB)\n",
      "Collecting tensorflow-intel==2.11.0\n",
      "  Downloading tensorflow_intel-2.11.0-cp39-cp39-win_amd64.whl (266.3 MB)\n",
      "Requirement already satisfied: protobuf<3.20,>=3.9.2 in c:\\users\\lenovo\\anaconda3\\lib\\site-packages (from tensorflow-intel==2.11.0->tensorflow) (3.19.1)\n",
      "Requirement already satisfied: six>=1.12.0 in c:\\users\\lenovo\\anaconda3\\lib\\site-packages (from tensorflow-intel==2.11.0->tensorflow) (1.16.0)\n",
      "Collecting google-pasta>=0.1.1\n",
      "  Downloading google_pasta-0.2.0-py3-none-any.whl (57 kB)\n",
      "Collecting astunparse>=1.6.0\n",
      "  Downloading astunparse-1.6.3-py2.py3-none-any.whl (12 kB)\n",
      "Collecting flatbuffers>=2.0\n",
      "  Downloading flatbuffers-23.1.21-py2.py3-none-any.whl (26 kB)\n",
      "Collecting gast<=0.4.0,>=0.2.1\n",
      "  Downloading gast-0.4.0-py3-none-any.whl (9.8 kB)\n",
      "Collecting tensorboard<2.12,>=2.11\n",
      "  Downloading tensorboard-2.11.2-py3-none-any.whl (6.0 MB)\n",
      "Collecting libclang>=13.0.0\n",
      "  Downloading libclang-15.0.6.1-py2.py3-none-win_amd64.whl (23.2 MB)\n",
      "Collecting tensorflow-io-gcs-filesystem>=0.23.1\n",
      "  Downloading tensorflow_io_gcs_filesystem-0.30.0-cp39-cp39-win_amd64.whl (1.5 MB)\n",
      "Requirement already satisfied: packaging in c:\\users\\lenovo\\anaconda3\\lib\\site-packages (from tensorflow-intel==2.11.0->tensorflow) (21.3)\n",
      "Requirement already satisfied: setuptools in c:\\users\\lenovo\\anaconda3\\lib\\site-packages (from tensorflow-intel==2.11.0->tensorflow) (61.2.0)\n",
      "Collecting termcolor>=1.1.0\n",
      "  Downloading termcolor-2.2.0-py3-none-any.whl (6.6 kB)\n",
      "Collecting absl-py>=1.0.0\n",
      "  Downloading absl_py-1.4.0-py3-none-any.whl (126 kB)\n",
      "Requirement already satisfied: typing-extensions>=3.6.6 in c:\\users\\lenovo\\anaconda3\\lib\\site-packages (from tensorflow-intel==2.11.0->tensorflow) (4.1.1)\n",
      "Requirement already satisfied: h5py>=2.9.0 in c:\\users\\lenovo\\anaconda3\\lib\\site-packages (from tensorflow-intel==2.11.0->tensorflow) (3.6.0)\n",
      "Collecting tensorflow-estimator<2.12,>=2.11.0\n",
      "  Downloading tensorflow_estimator-2.11.0-py2.py3-none-any.whl (439 kB)\n",
      "Requirement already satisfied: grpcio<2.0,>=1.24.3 in c:\\users\\lenovo\\anaconda3\\lib\\site-packages (from tensorflow-intel==2.11.0->tensorflow) (1.42.0)\n",
      "Requirement already satisfied: numpy>=1.20 in c:\\users\\lenovo\\anaconda3\\lib\\site-packages (from tensorflow-intel==2.11.0->tensorflow) (1.21.5)\n",
      "Collecting opt-einsum>=2.3.2\n",
      "  Downloading opt_einsum-3.3.0-py3-none-any.whl (65 kB)\n",
      "Collecting keras<2.12,>=2.11.0\n",
      "  Downloading keras-2.11.0-py2.py3-none-any.whl (1.7 MB)\n",
      "Requirement already satisfied: wrapt>=1.11.0 in c:\\users\\lenovo\\anaconda3\\lib\\site-packages (from tensorflow-intel==2.11.0->tensorflow) (1.12.1)\n",
      "Requirement already satisfied: wheel<1.0,>=0.23.0 in c:\\users\\lenovo\\anaconda3\\lib\\site-packages (from astunparse>=1.6.0->tensorflow-intel==2.11.0->tensorflow) (0.37.1)\n",
      "Requirement already satisfied: google-auth<3,>=1.6.3 in c:\\users\\lenovo\\anaconda3\\lib\\site-packages (from tensorboard<2.12,>=2.11->tensorflow-intel==2.11.0->tensorflow) (1.33.0)\n",
      "Requirement already satisfied: requests<3,>=2.21.0 in c:\\users\\lenovo\\anaconda3\\lib\\site-packages (from tensorboard<2.12,>=2.11->tensorflow-intel==2.11.0->tensorflow) (2.27.1)\n",
      "Collecting google-auth-oauthlib<0.5,>=0.4.1\n",
      "  Downloading google_auth_oauthlib-0.4.6-py2.py3-none-any.whl (18 kB)\n",
      "Collecting tensorboard-plugin-wit>=1.6.0\n",
      "  Downloading tensorboard_plugin_wit-1.8.1-py3-none-any.whl (781 kB)\n",
      "Requirement already satisfied: markdown>=2.6.8 in c:\\users\\lenovo\\anaconda3\\lib\\site-packages (from tensorboard<2.12,>=2.11->tensorflow-intel==2.11.0->tensorflow) (3.3.4)\n",
      "Collecting tensorboard-data-server<0.7.0,>=0.6.0\n",
      "  Downloading tensorboard_data_server-0.6.1-py3-none-any.whl (2.4 kB)\n",
      "Requirement already satisfied: werkzeug>=1.0.1 in c:\\users\\lenovo\\anaconda3\\lib\\site-packages (from tensorboard<2.12,>=2.11->tensorflow-intel==2.11.0->tensorflow) (2.0.3)\n",
      "Requirement already satisfied: rsa<5,>=3.1.4 in c:\\users\\lenovo\\anaconda3\\lib\\site-packages (from google-auth<3,>=1.6.3->tensorboard<2.12,>=2.11->tensorflow-intel==2.11.0->tensorflow) (4.7.2)\n",
      "Requirement already satisfied: cachetools<5.0,>=2.0.0 in c:\\users\\lenovo\\anaconda3\\lib\\site-packages (from google-auth<3,>=1.6.3->tensorboard<2.12,>=2.11->tensorflow-intel==2.11.0->tensorflow) (4.2.2)\n",
      "Requirement already satisfied: pyasn1-modules>=0.2.1 in c:\\users\\lenovo\\anaconda3\\lib\\site-packages (from google-auth<3,>=1.6.3->tensorboard<2.12,>=2.11->tensorflow-intel==2.11.0->tensorflow) (0.2.8)\n",
      "Collecting requests-oauthlib>=0.7.0\n",
      "  Downloading requests_oauthlib-1.3.1-py2.py3-none-any.whl (23 kB)\n",
      "Requirement already satisfied: pyasn1<0.5.0,>=0.4.6 in c:\\users\\lenovo\\anaconda3\\lib\\site-packages (from pyasn1-modules>=0.2.1->google-auth<3,>=1.6.3->tensorboard<2.12,>=2.11->tensorflow-intel==2.11.0->tensorflow) (0.4.8)\n",
      "Requirement already satisfied: idna<4,>=2.5 in c:\\users\\lenovo\\anaconda3\\lib\\site-packages (from requests<3,>=2.21.0->tensorboard<2.12,>=2.11->tensorflow-intel==2.11.0->tensorflow) (3.3)\n",
      "Requirement already satisfied: urllib3<1.27,>=1.21.1 in c:\\users\\lenovo\\anaconda3\\lib\\site-packages (from requests<3,>=2.21.0->tensorboard<2.12,>=2.11->tensorflow-intel==2.11.0->tensorflow) (1.26.9)\n",
      "Requirement already satisfied: certifi>=2017.4.17 in c:\\users\\lenovo\\anaconda3\\lib\\site-packages (from requests<3,>=2.21.0->tensorboard<2.12,>=2.11->tensorflow-intel==2.11.0->tensorflow) (2021.10.8)\n",
      "Requirement already satisfied: charset-normalizer~=2.0.0 in c:\\users\\lenovo\\anaconda3\\lib\\site-packages (from requests<3,>=2.21.0->tensorboard<2.12,>=2.11->tensorflow-intel==2.11.0->tensorflow) (2.0.4)\n",
      "Collecting oauthlib>=3.0.0\n",
      "  Downloading oauthlib-3.2.2-py3-none-any.whl (151 kB)\n",
      "Requirement already satisfied: pyparsing!=3.0.5,>=2.0.2 in c:\\users\\lenovo\\anaconda3\\lib\\site-packages (from packaging->tensorflow-intel==2.11.0->tensorflow) (3.0.4)\n",
      "Installing collected packages: oauthlib, requests-oauthlib, tensorboard-plugin-wit, tensorboard-data-server, google-auth-oauthlib, absl-py, termcolor, tensorflow-io-gcs-filesystem, tensorflow-estimator, tensorboard, opt-einsum, libclang, keras, google-pasta, gast, flatbuffers, astunparse, tensorflow-intel, tensorflow\n",
      "Successfully installed absl-py-1.4.0 astunparse-1.6.3 flatbuffers-23.1.21 gast-0.4.0 google-auth-oauthlib-0.4.6 google-pasta-0.2.0 keras-2.11.0 libclang-15.0.6.1 oauthlib-3.2.2 opt-einsum-3.3.0 requests-oauthlib-1.3.1 tensorboard-2.11.2 tensorboard-data-server-0.6.1 tensorboard-plugin-wit-1.8.1 tensorflow-2.11.0 tensorflow-estimator-2.11.0 tensorflow-intel-2.11.0 tensorflow-io-gcs-filesystem-0.30.0 termcolor-2.2.0\n",
      "\n"
     ]
    }
   ],
   "source": [
    "pip install tensorflow"
   ]
  },
  {
   "cell_type": "code",
   "execution_count": 7,
   "id": "7c40a8f0",
   "metadata": {},
   "outputs": [],
   "source": [
    "import tensorflow as tf"
   ]
  },
  {
   "cell_type": "code",
   "execution_count": 8,
   "id": "a946848e",
   "metadata": {},
   "outputs": [],
   "source": [
    "x=tf.constant(4,shape=(1,1),dtype=tf.float32)"
   ]
  },
  {
   "cell_type": "code",
   "execution_count": 9,
   "id": "b537263f",
   "metadata": {},
   "outputs": [
    {
     "name": "stdout",
     "output_type": "stream",
     "text": [
      "tf.Tensor([[4.]], shape=(1, 1), dtype=float32)\n"
     ]
    }
   ],
   "source": [
    "print(x)"
   ]
  },
  {
   "cell_type": "code",
   "execution_count": 10,
   "id": "99b43f11",
   "metadata": {},
   "outputs": [],
   "source": [
    "x=tf.constant([[1,2,3],[4,5,6]],shape=(2,3))"
   ]
  },
  {
   "cell_type": "code",
   "execution_count": 11,
   "id": "73dc7efb",
   "metadata": {},
   "outputs": [
    {
     "name": "stdout",
     "output_type": "stream",
     "text": [
      "tf.Tensor(\n",
      "[[1 2 3]\n",
      " [4 5 6]], shape=(2, 3), dtype=int32)\n"
     ]
    }
   ],
   "source": [
    "print(x)"
   ]
  },
  {
   "cell_type": "code",
   "execution_count": 12,
   "id": "1f3013d3",
   "metadata": {},
   "outputs": [],
   "source": [
    "x=tf.eye(3)"
   ]
  },
  {
   "cell_type": "code",
   "execution_count": 13,
   "id": "ab627904",
   "metadata": {},
   "outputs": [
    {
     "name": "stdout",
     "output_type": "stream",
     "text": [
      "tf.Tensor(\n",
      "[[1. 0. 0.]\n",
      " [0. 1. 0.]\n",
      " [0. 0. 1.]], shape=(3, 3), dtype=float32)\n"
     ]
    }
   ],
   "source": [
    "print(x)"
   ]
  },
  {
   "cell_type": "code",
   "execution_count": 14,
   "id": "b37412f3",
   "metadata": {},
   "outputs": [],
   "source": [
    "x=tf.ones((4,3))"
   ]
  },
  {
   "cell_type": "code",
   "execution_count": 15,
   "id": "24d088d7",
   "metadata": {},
   "outputs": [
    {
     "name": "stdout",
     "output_type": "stream",
     "text": [
      "tf.Tensor(\n",
      "[[1. 1. 1.]\n",
      " [1. 1. 1.]\n",
      " [1. 1. 1.]\n",
      " [1. 1. 1.]], shape=(4, 3), dtype=float32)\n"
     ]
    }
   ],
   "source": [
    "print(x)"
   ]
  },
  {
   "cell_type": "code",
   "execution_count": 16,
   "id": "f66a524c",
   "metadata": {},
   "outputs": [],
   "source": [
    "x=tf.zeros((3,2,5))"
   ]
  },
  {
   "cell_type": "code",
   "execution_count": 17,
   "id": "904a4cc3",
   "metadata": {},
   "outputs": [
    {
     "name": "stdout",
     "output_type": "stream",
     "text": [
      "tf.Tensor(\n",
      "[[[0. 0. 0. 0. 0.]\n",
      "  [0. 0. 0. 0. 0.]]\n",
      "\n",
      " [[0. 0. 0. 0. 0.]\n",
      "  [0. 0. 0. 0. 0.]]\n",
      "\n",
      " [[0. 0. 0. 0. 0.]\n",
      "  [0. 0. 0. 0. 0.]]], shape=(3, 2, 5), dtype=float32)\n"
     ]
    }
   ],
   "source": [
    "print(x)"
   ]
  },
  {
   "cell_type": "code",
   "execution_count": 18,
   "id": "14ac51e5",
   "metadata": {},
   "outputs": [],
   "source": [
    "x=tf.random.uniform((2,2),minval=0,maxval=1)"
   ]
  },
  {
   "cell_type": "code",
   "execution_count": 19,
   "id": "c9080176",
   "metadata": {},
   "outputs": [
    {
     "name": "stdout",
     "output_type": "stream",
     "text": [
      "tf.Tensor(\n",
      "[[0.89623404 0.46394992]\n",
      " [0.6898029  0.67426634]], shape=(2, 2), dtype=float32)\n"
     ]
    }
   ],
   "source": [
    "print(x)"
   ]
  },
  {
   "cell_type": "code",
   "execution_count": 20,
   "id": "0e07f0c0",
   "metadata": {},
   "outputs": [],
   "source": [
    "x=tf.random.normal((3,3),mean=0,stddev=1)"
   ]
  },
  {
   "cell_type": "code",
   "execution_count": 21,
   "id": "a9869e30",
   "metadata": {},
   "outputs": [
    {
     "name": "stdout",
     "output_type": "stream",
     "text": [
      "tf.Tensor(\n",
      "[[-0.51412481 -0.66424161 -2.03140283]\n",
      " [-1.25791025 -1.01579988 -0.85212183]\n",
      " [ 1.97427475  0.19193357  1.48320639]], shape=(3, 3), dtype=float64)\n"
     ]
    }
   ],
   "source": [
    "print(tf.cast(x,dtype=tf.float64))"
   ]
  },
  {
   "cell_type": "code",
   "execution_count": 22,
   "id": "67506f71",
   "metadata": {},
   "outputs": [],
   "source": [
    "x=tf.range(9)"
   ]
  },
  {
   "cell_type": "code",
   "execution_count": 23,
   "id": "de660911",
   "metadata": {},
   "outputs": [],
   "source": [
    "x=tf.range(start=0,limit=10,delta=2)"
   ]
  },
  {
   "cell_type": "code",
   "execution_count": 24,
   "id": "dc9fa026",
   "metadata": {},
   "outputs": [
    {
     "name": "stdout",
     "output_type": "stream",
     "text": [
      "tf.Tensor([0 2 4 6 8], shape=(5,), dtype=int32)\n"
     ]
    }
   ],
   "source": [
    "print(x)"
   ]
  },
  {
   "cell_type": "code",
   "execution_count": 25,
   "id": "ab21bb07",
   "metadata": {},
   "outputs": [],
   "source": [
    "x=tf.constant([1,2,3])"
   ]
  },
  {
   "cell_type": "code",
   "execution_count": 26,
   "id": "0b4593a8",
   "metadata": {},
   "outputs": [],
   "source": [
    "y=tf.constant([9,8,7])"
   ]
  },
  {
   "cell_type": "code",
   "execution_count": 27,
   "id": "a6732fdd",
   "metadata": {},
   "outputs": [],
   "source": [
    "z=tf.add(x,y)"
   ]
  },
  {
   "cell_type": "code",
   "execution_count": 28,
   "id": "47dc64ed",
   "metadata": {},
   "outputs": [],
   "source": [
    "z=x+y"
   ]
  },
  {
   "cell_type": "code",
   "execution_count": 29,
   "id": "1a62a2c5",
   "metadata": {},
   "outputs": [],
   "source": [
    "z=tf.subtract(x,y)"
   ]
  },
  {
   "cell_type": "code",
   "execution_count": 30,
   "id": "bd93cec3",
   "metadata": {},
   "outputs": [],
   "source": [
    "z=x-y"
   ]
  },
  {
   "cell_type": "code",
   "execution_count": 31,
   "id": "3f1e735d",
   "metadata": {},
   "outputs": [],
   "source": [
    "z=tf.divide(x,y)"
   ]
  },
  {
   "cell_type": "code",
   "execution_count": 65,
   "id": "aea911d4",
   "metadata": {},
   "outputs": [
    {
     "name": "stdout",
     "output_type": "stream",
     "text": [
      "tf.Tensor(\n",
      "[[ 2.3428602  -0.64813954]\n",
      " [ 5.358514   -1.6714163 ]], shape=(2, 2), dtype=float32)\n"
     ]
    }
   ],
   "source": [
    "print(z)"
   ]
  },
  {
   "cell_type": "code",
   "execution_count": 32,
   "id": "74e37002",
   "metadata": {},
   "outputs": [],
   "source": [
    "z=x/y"
   ]
  },
  {
   "cell_type": "code",
   "execution_count": 33,
   "id": "c9497431",
   "metadata": {},
   "outputs": [],
   "source": [
    "z=tf.multiply(x,y)"
   ]
  },
  {
   "cell_type": "code",
   "execution_count": 34,
   "id": "a3ab374b",
   "metadata": {},
   "outputs": [],
   "source": [
    "z=x*y"
   ]
  },
  {
   "cell_type": "code",
   "execution_count": 35,
   "id": "49f6ac32",
   "metadata": {},
   "outputs": [],
   "source": [
    "z=tf.tensordot(x,y,axes=1)"
   ]
  },
  {
   "cell_type": "code",
   "execution_count": 64,
   "id": "f76f6f0f",
   "metadata": {},
   "outputs": [
    {
     "name": "stdout",
     "output_type": "stream",
     "text": [
      "tf.Tensor(\n",
      "[[ 2.3428602  -0.64813954]\n",
      " [ 5.358514   -1.6714163 ]], shape=(2, 2), dtype=float32)\n"
     ]
    }
   ],
   "source": [
    "print(z)"
   ]
  },
  {
   "cell_type": "code",
   "execution_count": 36,
   "id": "3bafda9b",
   "metadata": {},
   "outputs": [],
   "source": [
    "z=x**5"
   ]
  },
  {
   "cell_type": "code",
   "execution_count": 63,
   "id": "2fc0c3fb",
   "metadata": {},
   "outputs": [
    {
     "name": "stdout",
     "output_type": "stream",
     "text": [
      "tf.Tensor(\n",
      "[[ 2.3428602  -0.64813954]\n",
      " [ 5.358514   -1.6714163 ]], shape=(2, 2), dtype=float32)\n"
     ]
    }
   ],
   "source": [
    "print(z)"
   ]
  },
  {
   "cell_type": "code",
   "execution_count": 37,
   "id": "400a8df8",
   "metadata": {},
   "outputs": [],
   "source": [
    "x=tf.random.normal((2,3))"
   ]
  },
  {
   "cell_type": "code",
   "execution_count": 62,
   "id": "2fab528d",
   "metadata": {},
   "outputs": [
    {
     "name": "stdout",
     "output_type": "stream",
     "text": [
      "tf.Tensor(\n",
      "[[0 3 6]\n",
      " [1 4 7]\n",
      " [2 5 8]], shape=(3, 3), dtype=int32)\n"
     ]
    }
   ],
   "source": [
    "print(x)"
   ]
  },
  {
   "cell_type": "code",
   "execution_count": 38,
   "id": "df6306f1",
   "metadata": {},
   "outputs": [],
   "source": [
    "y=tf.random.normal((3,2))"
   ]
  },
  {
   "cell_type": "code",
   "execution_count": 61,
   "id": "836e5898",
   "metadata": {},
   "outputs": [
    {
     "name": "stdout",
     "output_type": "stream",
     "text": [
      "tf.Tensor(\n",
      "[[-0.7842342  -0.26434946]\n",
      " [ 0.55170083 -0.14977637]\n",
      " [-1.6787572   0.9976668 ]], shape=(3, 2), dtype=float32)\n"
     ]
    }
   ],
   "source": [
    "print(y)"
   ]
  },
  {
   "cell_type": "code",
   "execution_count": 39,
   "id": "ad0a4e47",
   "metadata": {},
   "outputs": [],
   "source": [
    "z=tf.matmul(x,y)"
   ]
  },
  {
   "cell_type": "code",
   "execution_count": 60,
   "id": "0dc1f6d6",
   "metadata": {},
   "outputs": [
    {
     "name": "stdout",
     "output_type": "stream",
     "text": [
      "tf.Tensor(\n",
      "[[ 2.3428602  -0.64813954]\n",
      " [ 5.358514   -1.6714163 ]], shape=(2, 2), dtype=float32)\n"
     ]
    }
   ],
   "source": [
    "print(z)"
   ]
  },
  {
   "cell_type": "code",
   "execution_count": 40,
   "id": "a83f6a79",
   "metadata": {},
   "outputs": [],
   "source": [
    "z=x@y"
   ]
  },
  {
   "cell_type": "code",
   "execution_count": 59,
   "id": "5139cb59",
   "metadata": {},
   "outputs": [
    {
     "name": "stdout",
     "output_type": "stream",
     "text": [
      "tf.Tensor(\n",
      "[[ 2.3428602  -0.64813954]\n",
      " [ 5.358514   -1.6714163 ]], shape=(2, 2), dtype=float32)\n"
     ]
    }
   ],
   "source": [
    "print(z)"
   ]
  },
  {
   "cell_type": "code",
   "execution_count": 41,
   "id": "fb82c356",
   "metadata": {},
   "outputs": [],
   "source": [
    "x=tf.random.normal((2,2))"
   ]
  },
  {
   "cell_type": "code",
   "execution_count": 42,
   "id": "3cc0ce20",
   "metadata": {},
   "outputs": [],
   "source": [
    "x=tf.constant([0,1,1,2,3,1,2,3])"
   ]
  },
  {
   "cell_type": "code",
   "execution_count": 43,
   "id": "b406f43b",
   "metadata": {},
   "outputs": [
    {
     "name": "stdout",
     "output_type": "stream",
     "text": [
      "tf.Tensor([0 1 1 2 3 1 2 3], shape=(8,), dtype=int32)\n"
     ]
    }
   ],
   "source": [
    "print(x[:])"
   ]
  },
  {
   "cell_type": "code",
   "execution_count": 44,
   "id": "a18d3228",
   "metadata": {},
   "outputs": [
    {
     "name": "stdout",
     "output_type": "stream",
     "text": [
      "tf.Tensor([1 1 2 3 1 2 3], shape=(7,), dtype=int32)\n"
     ]
    }
   ],
   "source": [
    "print(x[1:])"
   ]
  },
  {
   "cell_type": "code",
   "execution_count": 45,
   "id": "87bac4fb",
   "metadata": {},
   "outputs": [
    {
     "name": "stdout",
     "output_type": "stream",
     "text": [
      "tf.Tensor([1 1], shape=(2,), dtype=int32)\n"
     ]
    }
   ],
   "source": [
    "print(x[1:3])"
   ]
  },
  {
   "cell_type": "code",
   "execution_count": 46,
   "id": "7ff07f38",
   "metadata": {},
   "outputs": [
    {
     "name": "stdout",
     "output_type": "stream",
     "text": [
      "tf.Tensor([0 1 3 2], shape=(4,), dtype=int32)\n"
     ]
    }
   ],
   "source": [
    "print(x[::2])"
   ]
  },
  {
   "cell_type": "code",
   "execution_count": 47,
   "id": "beadba0d",
   "metadata": {},
   "outputs": [
    {
     "name": "stdout",
     "output_type": "stream",
     "text": [
      "tf.Tensor([3 2 1 3 2 1 1 0], shape=(8,), dtype=int32)\n"
     ]
    }
   ],
   "source": [
    "print(x[::-1])"
   ]
  },
  {
   "cell_type": "code",
   "execution_count": 48,
   "id": "552ee318",
   "metadata": {},
   "outputs": [],
   "source": [
    "indices=tf.constant([0,3])"
   ]
  },
  {
   "cell_type": "code",
   "execution_count": 49,
   "id": "4d61f43e",
   "metadata": {},
   "outputs": [],
   "source": [
    "x_indices=tf.gather(x,indices)"
   ]
  },
  {
   "cell_type": "code",
   "execution_count": 50,
   "id": "a67d7ad2",
   "metadata": {},
   "outputs": [],
   "source": [
    "x=tf.constant([[1,2],[3,4],[5,6]])"
   ]
  },
  {
   "cell_type": "code",
   "execution_count": 51,
   "id": "03eaeadb",
   "metadata": {},
   "outputs": [
    {
     "name": "stdout",
     "output_type": "stream",
     "text": [
      "tf.Tensor([1 2], shape=(2,), dtype=int32)\n"
     ]
    }
   ],
   "source": [
    "print(x[0,:])"
   ]
  },
  {
   "cell_type": "code",
   "execution_count": 52,
   "id": "71599142",
   "metadata": {},
   "outputs": [
    {
     "name": "stdout",
     "output_type": "stream",
     "text": [
      "tf.Tensor(\n",
      "[[1 2]\n",
      " [3 4]], shape=(2, 2), dtype=int32)\n"
     ]
    }
   ],
   "source": [
    "print(x[0:2,:])"
   ]
  },
  {
   "cell_type": "code",
   "execution_count": 53,
   "id": "5065798a",
   "metadata": {},
   "outputs": [],
   "source": [
    "x=tf.range(9)"
   ]
  },
  {
   "cell_type": "code",
   "execution_count": 54,
   "id": "72fe6d63",
   "metadata": {},
   "outputs": [
    {
     "data": {
      "text/plain": [
       "<tf.Tensor: shape=(9,), dtype=int32, numpy=array([0, 1, 2, 3, 4, 5, 6, 7, 8])>"
      ]
     },
     "execution_count": 54,
     "metadata": {},
     "output_type": "execute_result"
    }
   ],
   "source": [
    "x"
   ]
  },
  {
   "cell_type": "code",
   "execution_count": 55,
   "id": "e2a205bb",
   "metadata": {},
   "outputs": [],
   "source": [
    "x=tf.reshape(x,(3,3))"
   ]
  },
  {
   "cell_type": "code",
   "execution_count": 56,
   "id": "baee924b",
   "metadata": {},
   "outputs": [
    {
     "data": {
      "text/plain": [
       "<tf.Tensor: shape=(3, 3), dtype=int32, numpy=\n",
       "array([[0, 1, 2],\n",
       "       [3, 4, 5],\n",
       "       [6, 7, 8]])>"
      ]
     },
     "execution_count": 56,
     "metadata": {},
     "output_type": "execute_result"
    }
   ],
   "source": [
    "x"
   ]
  },
  {
   "cell_type": "code",
   "execution_count": 57,
   "id": "a51715a8",
   "metadata": {},
   "outputs": [],
   "source": [
    "x=tf.transpose(x,perm=[1,0])"
   ]
  },
  {
   "cell_type": "code",
   "execution_count": 58,
   "id": "15bf9285",
   "metadata": {},
   "outputs": [
    {
     "data": {
      "text/plain": [
       "<tf.Tensor: shape=(3, 3), dtype=int32, numpy=\n",
       "array([[0, 3, 6],\n",
       "       [1, 4, 7],\n",
       "       [2, 5, 8]])>"
      ]
     },
     "execution_count": 58,
     "metadata": {},
     "output_type": "execute_result"
    }
   ],
   "source": [
    "x"
   ]
  },
  {
   "cell_type": "code",
   "execution_count": null,
   "id": "4c516578",
   "metadata": {},
   "outputs": [],
   "source": []
  }
 ],
 "metadata": {
  "kernelspec": {
   "display_name": "Python 3 (ipykernel)",
   "language": "python",
   "name": "python3"
  },
  "language_info": {
   "codemirror_mode": {
    "name": "ipython",
    "version": 3
   },
   "file_extension": ".py",
   "mimetype": "text/x-python",
   "name": "python",
   "nbconvert_exporter": "python",
   "pygments_lexer": "ipython3",
   "version": "3.9.12"
  }
 },
 "nbformat": 4,
 "nbformat_minor": 5
}
